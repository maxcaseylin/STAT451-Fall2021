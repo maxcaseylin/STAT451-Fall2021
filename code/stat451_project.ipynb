{
  "cells": [
    {
      "cell_type": "code",
      "execution_count": 33,
      "metadata": {
        "colab": {
          "base_uri": "https://localhost:8080/"
        },
        "id": "wzSla8T6RehM",
        "outputId": "399f057b-80ab-4966-a0bd-2d77603664e3"
      },
      "outputs": [
        {
          "name": "stdout",
          "output_type": "stream",
          "text": [
            "Drive already mounted at /content/drive; to attempt to forcibly remount, call drive.mount(\"/content/drive\", force_remount=True).\n"
          ]
        }
      ],
      "source": [
        "#connect to google drive\n",
        "from google.colab import drive\n",
        "drive.mount('/content/drive')\n",
        "#DO NOT RUN, REPLACE WITH ACTUAL CSV FILE IF RUNNING ON LOCAL MACHINE"
      ]
    },
    {
      "cell_type": "code",
      "execution_count": 34,
      "metadata": {
        "id": "yNl2xHiqSU6q"
      },
      "outputs": [],
      "source": [
        "#major imports\n",
        "import pandas\n",
        "import numpy as np\n",
        "import sklearn"
      ]
    },
    {
      "cell_type": "code",
      "execution_count": 35,
      "metadata": {
        "id": "FCpKoqaSUQpl"
      },
      "outputs": [],
      "source": [
        "#import data\n",
        "df = pandas.read_csv('/content/drive/MyDrive/bodyfat.csv')"
      ]
    },
    {
      "cell_type": "code",
      "execution_count": 36,
      "metadata": {
        "colab": {
          "base_uri": "https://localhost:8080/",
          "height": 206
        },
        "id": "nNQEapfKXOKD",
        "outputId": "8673462f-f7a1-48a1-951f-0429b6caa2a0"
      },
      "outputs": [
        {
          "data": {
            "text/html": [
              "<div>\n",
              "<style scoped>\n",
              "    .dataframe tbody tr th:only-of-type {\n",
              "        vertical-align: middle;\n",
              "    }\n",
              "\n",
              "    .dataframe tbody tr th {\n",
              "        vertical-align: top;\n",
              "    }\n",
              "\n",
              "    .dataframe thead th {\n",
              "        text-align: right;\n",
              "    }\n",
              "</style>\n",
              "<table border=\"1\" class=\"dataframe\">\n",
              "  <thead>\n",
              "    <tr style=\"text-align: right;\">\n",
              "      <th></th>\n",
              "      <th>Density</th>\n",
              "      <th>BodyFat</th>\n",
              "      <th>Age</th>\n",
              "      <th>Weight</th>\n",
              "      <th>Height</th>\n",
              "      <th>Neck</th>\n",
              "      <th>Chest</th>\n",
              "      <th>Abdomen</th>\n",
              "      <th>Hip</th>\n",
              "      <th>Thigh</th>\n",
              "      <th>Knee</th>\n",
              "      <th>Ankle</th>\n",
              "      <th>Biceps</th>\n",
              "      <th>Forearm</th>\n",
              "      <th>Wrist</th>\n",
              "    </tr>\n",
              "  </thead>\n",
              "  <tbody>\n",
              "    <tr>\n",
              "      <th>0</th>\n",
              "      <td>1.0708</td>\n",
              "      <td>12.3</td>\n",
              "      <td>23</td>\n",
              "      <td>154.25</td>\n",
              "      <td>67.75</td>\n",
              "      <td>36.2</td>\n",
              "      <td>93.1</td>\n",
              "      <td>85.2</td>\n",
              "      <td>94.5</td>\n",
              "      <td>59.0</td>\n",
              "      <td>37.3</td>\n",
              "      <td>21.9</td>\n",
              "      <td>32.0</td>\n",
              "      <td>27.4</td>\n",
              "      <td>17.1</td>\n",
              "    </tr>\n",
              "    <tr>\n",
              "      <th>1</th>\n",
              "      <td>1.0853</td>\n",
              "      <td>6.1</td>\n",
              "      <td>22</td>\n",
              "      <td>173.25</td>\n",
              "      <td>72.25</td>\n",
              "      <td>38.5</td>\n",
              "      <td>93.6</td>\n",
              "      <td>83.0</td>\n",
              "      <td>98.7</td>\n",
              "      <td>58.7</td>\n",
              "      <td>37.3</td>\n",
              "      <td>23.4</td>\n",
              "      <td>30.5</td>\n",
              "      <td>28.9</td>\n",
              "      <td>18.2</td>\n",
              "    </tr>\n",
              "    <tr>\n",
              "      <th>2</th>\n",
              "      <td>1.0414</td>\n",
              "      <td>25.3</td>\n",
              "      <td>22</td>\n",
              "      <td>154.00</td>\n",
              "      <td>66.25</td>\n",
              "      <td>34.0</td>\n",
              "      <td>95.8</td>\n",
              "      <td>87.9</td>\n",
              "      <td>99.2</td>\n",
              "      <td>59.6</td>\n",
              "      <td>38.9</td>\n",
              "      <td>24.0</td>\n",
              "      <td>28.8</td>\n",
              "      <td>25.2</td>\n",
              "      <td>16.6</td>\n",
              "    </tr>\n",
              "    <tr>\n",
              "      <th>3</th>\n",
              "      <td>1.0751</td>\n",
              "      <td>10.4</td>\n",
              "      <td>26</td>\n",
              "      <td>184.75</td>\n",
              "      <td>72.25</td>\n",
              "      <td>37.4</td>\n",
              "      <td>101.8</td>\n",
              "      <td>86.4</td>\n",
              "      <td>101.2</td>\n",
              "      <td>60.1</td>\n",
              "      <td>37.3</td>\n",
              "      <td>22.8</td>\n",
              "      <td>32.4</td>\n",
              "      <td>29.4</td>\n",
              "      <td>18.2</td>\n",
              "    </tr>\n",
              "    <tr>\n",
              "      <th>4</th>\n",
              "      <td>1.0340</td>\n",
              "      <td>28.7</td>\n",
              "      <td>24</td>\n",
              "      <td>184.25</td>\n",
              "      <td>71.25</td>\n",
              "      <td>34.4</td>\n",
              "      <td>97.3</td>\n",
              "      <td>100.0</td>\n",
              "      <td>101.9</td>\n",
              "      <td>63.2</td>\n",
              "      <td>42.2</td>\n",
              "      <td>24.0</td>\n",
              "      <td>32.2</td>\n",
              "      <td>27.7</td>\n",
              "      <td>17.7</td>\n",
              "    </tr>\n",
              "  </tbody>\n",
              "</table>\n",
              "</div>"
            ],
            "text/plain": [
              "   Density  BodyFat  Age  Weight  Height  ...  Knee  Ankle  Biceps  Forearm  Wrist\n",
              "0   1.0708     12.3   23  154.25   67.75  ...  37.3   21.9    32.0     27.4   17.1\n",
              "1   1.0853      6.1   22  173.25   72.25  ...  37.3   23.4    30.5     28.9   18.2\n",
              "2   1.0414     25.3   22  154.00   66.25  ...  38.9   24.0    28.8     25.2   16.6\n",
              "3   1.0751     10.4   26  184.75   72.25  ...  37.3   22.8    32.4     29.4   18.2\n",
              "4   1.0340     28.7   24  184.25   71.25  ...  42.2   24.0    32.2     27.7   17.7\n",
              "\n",
              "[5 rows x 15 columns]"
            ]
          },
          "execution_count": 36,
          "metadata": {},
          "output_type": "execute_result"
        }
      ],
      "source": [
        "df.head()"
      ]
    },
    {
      "cell_type": "code",
      "execution_count": 37,
      "metadata": {
        "colab": {
          "base_uri": "https://localhost:8080/",
          "height": 609
        },
        "id": "P8tpnPYMhvTs",
        "outputId": "e19e2138-fdd9-4c5b-d249-953d9a920a17"
      },
      "outputs": [
        {
          "data": {
            "text/plain": [
              "<matplotlib.axes._subplots.AxesSubplot at 0x7fd837145210>"
            ]
          },
          "execution_count": 37,
          "metadata": {},
          "output_type": "execute_result"
        },
        {
          "data": {
            "image/png": "[encoded data removed]",
            "text/plain": [
              "<Figure size 1080x720 with 1 Axes>"
            ]
          },
          "metadata": {
            "needs_background": "light"
          },
          "output_type": "display_data"
        }
      ],
      "source": [
        "df['BodyFat'].hist(bins=30, figsize=(15, 10))"
      ]
    },
    {
      "cell_type": "code",
      "execution_count": 38,
      "metadata": {
        "id": "bvht93ynXArC"
      },
      "outputs": [],
      "source": [
        "from sklearn.model_selection import train_test_split\n",
        "X = df.drop(columns=['BodyFat'])\n",
        "y = df['BodyFat']\n",
        "\n",
        "X_train, X_test, y_train, y_test = train_test_split(X, y, train_size=0.75)"
      ]
    },
    {
      "cell_type": "code",
      "execution_count": 39,
      "metadata": {
        "colab": {
          "base_uri": "https://localhost:8080/"
        },
        "id": "ElX0ZUC1WIdD",
        "outputId": "e2dfb4f4-e97c-4353-ee79-d2089e54e9bf"
      },
      "outputs": [
        {
          "data": {
            "text/plain": [
              "252"
            ]
          },
          "execution_count": 39,
          "metadata": {},
          "output_type": "execute_result"
        }
      ],
      "source": [
        "len(y)"
      ]
    },
    {
      "cell_type": "code",
      "execution_count": 40,
      "metadata": {
        "id": "y_JsAD2-T9i6"
      },
      "outputs": [],
      "source": [
        "#baseline linear regression model\n",
        "from sklearn.linear_model import LinearRegression\n",
        "lr = LinearRegression()\n"
      ]
    },
    {
      "cell_type": "code",
      "execution_count": 41,
      "metadata": {
        "colab": {
          "base_uri": "https://localhost:8080/"
        },
        "id": "5Cftlo0tVcOS",
        "outputId": "e7beafc2-1849-48c6-f5c7-4539058d7ddc"
      },
      "outputs": [
        {
          "name": "stdout",
          "output_type": "stream",
          "text": [
            "[0.9945235  0.9920098  0.99612867 0.95623739 0.99867024 0.96858177\n",
            " 0.98245364 0.19916359 0.98543487 0.99529295 0.97511524 0.99754105\n",
            " 0.99545026 0.99759678 0.9815012  0.99335812 0.99402146 0.99387295\n",
            " 0.99085995 0.9957109 ]\n",
            "Mean Accuracy: 0.9491762164444859\n",
            "Std: 0.1724015910141823\n"
          ]
        }
      ],
      "source": [
        "#20 fold cv\n",
        "from sklearn.model_selection import cross_val_score\n",
        "scores = cross_val_score(lr, X, y, cv=20)\n",
        "print(scores)\n",
        "print(f\"Mean Accuracy: {np.mean(scores)}\")\n",
        "print(f\"Std: {np.std(scores)}\")"
      ]
    },
    {
      "cell_type": "code",
      "execution_count": 42,
      "metadata": {
        "colab": {
          "base_uri": "https://localhost:8080/"
        },
        "id": "94VuSxsaeULu",
        "outputId": "504c385c-ebe4-4ec6-f670-083af53c885a"
      },
      "outputs": [
        {
          "name": "stdout",
          "output_type": "stream",
          "text": [
            "     Density  Age  Weight  Height  Neck  ...  Knee  Ankle  Biceps  Forearm  Wrist\n",
            "0     1.0708   23  154.25   67.75  36.2  ...  37.3   21.9    32.0     27.4   17.1\n",
            "1     1.0853   22  173.25   72.25  38.5  ...  37.3   23.4    30.5     28.9   18.2\n",
            "2     1.0414   22  154.00   66.25  34.0  ...  38.9   24.0    28.8     25.2   16.6\n",
            "3     1.0751   26  184.75   72.25  37.4  ...  37.3   22.8    32.4     29.4   18.2\n",
            "4     1.0340   24  184.25   71.25  34.4  ...  42.2   24.0    32.2     27.7   17.7\n",
            "..       ...  ...     ...     ...   ...  ...   ...    ...     ...      ...    ...\n",
            "247   1.0736   70  134.25   67.00  34.9  ...  34.8   21.5    25.6     25.7   18.5\n",
            "248   1.0236   72  201.00   69.75  40.9  ...  40.8   23.2    35.2     28.6   20.1\n",
            "249   1.0328   72  186.75   66.00  38.9  ...  37.3   21.5    31.3     27.2   18.0\n",
            "250   1.0399   72  190.75   70.50  38.9  ...  41.6   22.7    30.5     29.4   19.8\n",
            "251   1.0271   74  207.50   70.00  40.8  ...  42.2   24.6    33.7     30.0   20.9\n",
            "\n",
            "[252 rows x 14 columns]\n",
            "0      12.3\n",
            "1       6.1\n",
            "2      25.3\n",
            "3      10.4\n",
            "4      28.7\n",
            "       ... \n",
            "247    11.0\n",
            "248    33.6\n",
            "249    29.3\n",
            "250    26.0\n",
            "251    31.9\n",
            "Name: BodyFat, Length: 252, dtype: float64\n"
          ]
        }
      ],
      "source": [
        "print(X)\n",
        "print(y)"
      ]
    },
    {
      "cell_type": "code",
      "execution_count": 43,
      "metadata": {
        "id": "gRPsP0eI7T6J"
      },
      "outputs": [],
      "source": [
        "#LOOCV\n",
        "from sklearn.model_selection import LeaveOneOut\n",
        "from sklearn.metrics import r2_score, mean_squared_error\n",
        "from matplotlib import pyplot as plt \n",
        "def loocv(X ,y, estimator):\n",
        "  cv = LeaveOneOut()\n",
        "  y_true, y_pred = [], []\n",
        "  for train_idx, test_idx in cv.split(X):\n",
        "    #print(train_idx)\n",
        "    #print(test_idx)\n",
        "    X_train, X_test = X.iloc[train_idx, :].values, X.iloc[test_idx, :].values\n",
        "    y_train, y_test = y.iloc[train_idx].values, y.iloc[test_idx].values\n",
        "    estimator.fit(X_train, y_train)\n",
        "    yhat = estimator.predict(X_test)\n",
        "    y_true.append(y_test[0])\n",
        "    y_pred.append(yhat[0])\n",
        "\n",
        "  \n",
        "  \n",
        "  scores = (np.array(y_true) - np.array(y_pred)) ** 2\n",
        "  hist, bins = np.histogram(scores, bins=30)\n",
        "  plt.hist(hist, bins=bins)\n",
        "  plt.show()\n",
        "  scores_n_outlier = scores[np.where(scores < 50)] #remove outlier MSE\n",
        "  print(scores[np.where(scores > 50)])\n",
        "\n",
        "  print(\"R^2: \" + str(r2_score(y_pred, y_true)))\n",
        "  #print(scores)\n",
        "  print(\"MSE(mean): \" + str(np.mean(scores)))\n",
        "  print(\"MSE(std): \" + str(np.std(scores)))\n",
        "  print(\"CI (95%): \" + str(1.96 * np.std(scores)))\n",
        "\n",
        "  print(\"MSE(mean (no outlier)): \" + str(np.mean(scores_n_outlier)))\n",
        "  print(\"MSE(std (no outlier)): \" + str(np.std(scores_n_outlier)))\n",
        "  print(\"CI (95%):  \" + str(1.96 * np.std(scores_n_outlier)))"
      ]
    },
    {
      "cell_type": "code",
      "execution_count": 44,
      "metadata": {
        "colab": {
          "base_uri": "https://localhost:8080/",
          "height": 404
        },
        "id": "04sxsfAt8eFv",
        "outputId": "c4c4da27-6436-4873-bb94-7683495b4163"
      },
      "outputs": [
        {
          "data": {
            "image/png": "[encoded data removed]",
            "text/plain": [
              "<Figure size 432x288 with 1 Axes>"
            ]
          },
          "metadata": {
            "needs_background": "light"
          },
          "output_type": "display_data"
        },
        {
          "name": "stdout",
          "output_type": "stream",
          "text": [
            "[ 76.03957069 305.85000387]\n",
            "R^2: 0.972024907871995\n",
            "MSE(mean): 1.9149040552817538\n",
            "MSE(std): 19.837370091667278\n",
            "CI (95%): 38.88124537966787\n",
            "MSE(mean (no outlier)): 0.402664989478171\n",
            "MSE(std (no outlier)): 1.702501325422355\n",
            "CI (95%):  3.336902597827816\n"
          ]
        }
      ],
      "source": [
        "loocv(X, y, lr)"
      ]
    },
    {
      "cell_type": "code",
      "execution_count": 45,
      "metadata": {
        "colab": {
          "base_uri": "https://localhost:8080/"
        },
        "id": "-2zSHI1_X_wT",
        "outputId": "3aff3b0a-a48a-49a0-cdfd-b63dad82aebf"
      },
      "outputs": [
        {
          "name": "stdout",
          "output_type": "stream",
          "text": [
            "[0.95881207 0.97772341 0.99550827 0.93726999 0.99284962 0.95771747\n",
            " 0.9990637  0.31382878 0.99869747 0.99959958 0.99834461 0.9962259\n",
            " 0.99319033 0.98380186 0.96534041 0.99874771 0.95781851 0.99816921\n",
            " 0.99750301 0.99823222]\n",
            "Mean Accuracy: 0.9509222070499836\n",
            "Std: 0.1473038571234757\n"
          ]
        }
      ],
      "source": [
        "#baseline xgboost\n",
        "from sklearn.ensemble import GradientBoostingRegressor\n",
        "gb = GradientBoostingRegressor()\n",
        "scores = cross_val_score(gb, X, y, cv=20)\n",
        "print(scores)\n",
        "print(f\"Mean Accuracy: {np.mean(scores)}\")\n",
        "print(f\"Std: {np.std(scores)}\")"
      ]
    },
    {
      "cell_type": "code",
      "execution_count": 46,
      "metadata": {
        "colab": {
          "base_uri": "https://localhost:8080/"
        },
        "id": "mnoXGUN8YW6T",
        "outputId": "717d8a6e-6b18-46fd-bf51-201e9993397f"
      },
      "outputs": [
        {
          "data": {
            "text/plain": [
              "GridSearchCV(cv=20, estimator=GradientBoostingRegressor(),\n",
              "             param_grid={'max_depth': [1, 2, 3, 4, 5],\n",
              "                         'n_estimators': [25, 50, 100, 200]})"
            ]
          },
          "execution_count": 46,
          "metadata": {},
          "output_type": "execute_result"
        }
      ],
      "source": [
        "#gridsearchCV\n",
        "from sklearn.model_selection import GridSearchCV\n",
        "gbm = GradientBoostingRegressor()\n",
        "params = {\n",
        "    'max_depth': [1, 2, 3, 4, 5],\n",
        "    'n_estimators':[25, 50, 100, 200]\n",
        "}\n",
        "search = GridSearchCV(cv=20, param_grid=params, estimator=gbm)\n",
        "search.fit(X, y)"
      ]
    },
    {
      "cell_type": "code",
      "execution_count": 47,
      "metadata": {
        "colab": {
          "base_uri": "https://localhost:8080/"
        },
        "id": "2TfxUNZZaH1x",
        "outputId": "4b5acb0a-417b-47a1-b80d-b72b900fcb1d"
      },
      "outputs": [
        {
          "data": {
            "text/plain": [
              "{'max_depth': 2, 'n_estimators': 50}"
            ]
          },
          "execution_count": 47,
          "metadata": {},
          "output_type": "execute_result"
        }
      ],
      "source": [
        "search.best_params_"
      ]
    },
    {
      "cell_type": "code",
      "execution_count": 48,
      "metadata": {
        "colab": {
          "base_uri": "https://localhost:8080/"
        },
        "id": "51lzi3MPaPSr",
        "outputId": "b0c1fbb9-602b-449e-c4bc-e26a6dff46e0"
      },
      "outputs": [
        {
          "name": "stdout",
          "output_type": "stream",
          "text": [
            "[0.99082915 0.9937036  0.99378568 0.93865177 0.99857375 0.94156774\n",
            " 0.99823368 0.35030765 0.99733339 0.99867945 0.99421653 0.99526343\n",
            " 0.99862936 0.97765776 0.97551347 0.99751311 0.94586198 0.99712309\n",
            " 0.99905061 0.99662363]\n",
            "Mean Accuracy: 0.9539559414191618\n",
            "Std: 0.1398512726637588\n"
          ]
        }
      ],
      "source": [
        "scores = cross_val_score(search.best_estimator_, X, y, cv=20)\n",
        "print(scores)\n",
        "print(f\"Mean Accuracy: {np.mean(scores)}\")\n",
        "print(f\"Std: {np.std(scores)}\")"
      ]
    },
    {
      "cell_type": "code",
      "execution_count": 49,
      "metadata": {
        "colab": {
          "base_uri": "https://localhost:8080/",
          "height": 404
        },
        "id": "GIeqxnNz-fJj",
        "outputId": "fe1ded85-541d-4e9b-9beb-0d4a6ccd5b3b"
      },
      "outputs": [
        {
          "data": {
            "image/png": "[encoded data removed]",
            "text/plain": [
              "<Figure size 432x288 with 1 Axes>"
            ]
          },
          "metadata": {
            "needs_background": "light"
          },
          "output_type": "display_data"
        },
        {
          "name": "stdout",
          "output_type": "stream",
          "text": [
            "[ 90.29576255 237.52662016  82.82478496]\n",
            "R^2: 0.9654102882396333\n",
            "MSE(mean): 2.254168899783787\n",
            "MSE(std): 17.10962141660393\n",
            "CI (95%): 33.5348579765437\n",
            "MSE(mean (no outlier)): 0.6321421489068706\n",
            "MSE(std (no outlier)): 3.759368546585001\n",
            "CI (95%):  7.368362351306602\n"
          ]
        }
      ],
      "source": [
        "loocv(X, y, search.best_estimator_)"
      ]
    },
    {
      "cell_type": "code",
      "execution_count": 50,
      "metadata": {
        "colab": {
          "base_uri": "https://localhost:8080/"
        },
        "id": "8odJzINHdXf3",
        "outputId": "608a4d3f-492b-4e82-fe19-c8c2e0f7271b"
      },
      "outputs": [
        {
          "data": {
            "text/plain": [
              "GridSearchCV(cv=20,\n",
              "             estimator=Pipeline(steps=[('scaler', MinMaxScaler()),\n",
              "                                       ('knn', KNeighborsRegressor())]),\n",
              "             param_grid={'knn__metric': ['euclidean', 'manhattan', 'minkowski'],\n",
              "                         'knn__n_neighbors': [1, 3, 5, 7, 9, 11, 13, 15],\n",
              "                         'knn__weights': ['uniform', 'distance']})"
            ]
          },
          "execution_count": 50,
          "metadata": {},
          "output_type": "execute_result"
        }
      ],
      "source": [
        "from sklearn.preprocessing import StandardScaler, RobustScaler, Normalizer, MinMaxScaler\n",
        "from sklearn.datasets import make_classification\n",
        "from sklearn.model_selection import train_test_split\n",
        "from sklearn.pipeline import Pipeline\n",
        "from sklearn.neighbors import KNeighborsRegressor\n",
        "from sklearn.decomposition import PCA\n",
        "\n",
        "pipe = Pipeline([('scaler', MinMaxScaler()), ('knn', KNeighborsRegressor())])\n",
        "params = {\n",
        "    'knn__n_neighbors': [1, 3, 5, 7, 9, 11, 13, 15],\n",
        "    'knn__metric': ['euclidean', 'manhattan', 'minkowski'],\n",
        "    'knn__weights': ['uniform', 'distance']\n",
        "}\n",
        "pipe.get_params().keys()\n",
        "search = GridSearchCV(cv=20, param_grid=params, estimator=pipe)\n",
        "search.fit(X, y)"
      ]
    },
    {
      "cell_type": "code",
      "execution_count": 51,
      "metadata": {
        "colab": {
          "base_uri": "https://localhost:8080/"
        },
        "id": "ZknX7uyRfCFR",
        "outputId": "2cbf9d38-4d41-4360-ad45-1a47882e71cf"
      },
      "outputs": [
        {
          "data": {
            "text/plain": [
              "{'knn__metric': 'euclidean', 'knn__n_neighbors': 5, 'knn__weights': 'distance'}"
            ]
          },
          "execution_count": 51,
          "metadata": {},
          "output_type": "execute_result"
        }
      ],
      "source": [
        "search.best_params_"
      ]
    },
    {
      "cell_type": "code",
      "execution_count": 52,
      "metadata": {
        "colab": {
          "base_uri": "https://localhost:8080/"
        },
        "id": "ujfpRpH7e9m5",
        "outputId": "65d38873-a0fb-47ac-faa3-8e890896ba50"
      },
      "outputs": [
        {
          "name": "stdout",
          "output_type": "stream",
          "text": [
            "[0.64040167 0.75212218 0.89943309 0.92171078 0.88194013 0.82549636\n",
            " 0.41102288 0.88843762 0.57962876 0.8227252  0.44727527 0.94354819\n",
            " 0.77100495 0.86735508 0.91434934 0.84994658 0.84020946 0.84588379\n",
            " 0.83522724 0.74775318]\n",
            "Mean Accuracy: 0.7842735880167263\n",
            "Std: 0.147774834044069\n"
          ]
        }
      ],
      "source": [
        "scores = cross_val_score(search.best_estimator_, X, y, cv=20)\n",
        "print(scores)\n",
        "print(f\"Mean Accuracy: {np.mean(scores)}\")\n",
        "print(f\"Std: {np.std(scores)}\")"
      ]
    },
    {
      "cell_type": "code",
      "execution_count": 53,
      "metadata": {
        "colab": {
          "base_uri": "https://localhost:8080/",
          "height": 404
        },
        "id": "sdKEhORA_DeH",
        "outputId": "edd70877-8f49-449d-93ac-cb8ab64dcd24"
      },
      "outputs": [
        {
          "data": {
            "image/png": "[encoded data removed]",
            "text/plain": [
              "<Figure size 432x288 with 1 Axes>"
            ]
          },
          "metadata": {
            "needs_background": "light"
          },
          "output_type": "display_data"
        },
        {
          "name": "stdout",
          "output_type": "stream",
          "text": [
            "[ 61.83072345  52.20021177  93.76294965 154.43704849]\n",
            "R^2: 0.8138780610352806\n",
            "MSE(mean): 8.584853367229837\n",
            "MSE(std): 14.95129171910962\n",
            "CI (95%): 29.304531769454854\n",
            "MSE(mean (no outlier)): 7.262710141824531\n",
            "MSE(std (no outlier)): 9.553172635096239\n",
            "CI (95%):  18.724218364788626\n"
          ]
        }
      ],
      "source": [
        "loocv(X, y, search.best_estimator_)"
      ]
    },
    {
      "cell_type": "code",
      "execution_count": 54,
      "metadata": {
        "colab": {
          "base_uri": "https://localhost:8080/"
        },
        "id": "_NCS-lQMzROP",
        "outputId": "b58d7665-d045-4d09-9b71-413c745148a9"
      },
      "outputs": [
        {
          "data": {
            "text/plain": [
              "GridSearchCV(cv=20, estimator=RandomForestRegressor(),\n",
              "             param_grid={'max_depth': [1, 2, 3, 4, 5],\n",
              "                         'n_estimators': [10, 25, 50, 100, 200]})"
            ]
          },
          "execution_count": 54,
          "metadata": {},
          "output_type": "execute_result"
        }
      ],
      "source": [
        "from sklearn.ensemble import RandomForestRegressor\n",
        "rfc = RandomForestRegressor()\n",
        "params = {\n",
        "    'max_depth': [1, 2, 3, 4, 5],\n",
        "    'n_estimators':[10, 25, 50, 100, 200]\n",
        "}\n",
        "search = GridSearchCV(cv=20, param_grid=params, estimator=rfc)\n",
        "search.fit(X, y)\n"
      ]
    },
    {
      "cell_type": "code",
      "execution_count": 55,
      "metadata": {
        "colab": {
          "base_uri": "https://localhost:8080/"
        },
        "id": "APLqwoi-zlHd",
        "outputId": "6a6e6483-613b-4bda-9ac3-e17af0b36a6f"
      },
      "outputs": [
        {
          "data": {
            "text/plain": [
              "{'max_depth': 5, 'n_estimators': 25}"
            ]
          },
          "execution_count": 55,
          "metadata": {},
          "output_type": "execute_result"
        }
      ],
      "source": [
        "search.best_params_"
      ]
    },
    {
      "cell_type": "code",
      "execution_count": 56,
      "metadata": {
        "colab": {
          "base_uri": "https://localhost:8080/"
        },
        "id": "NjxjzQrzzllF",
        "outputId": "52c7c1ab-bb97-4239-e071-4961771bb994"
      },
      "outputs": [
        {
          "name": "stdout",
          "output_type": "stream",
          "text": [
            "[0.98286037 0.99769837 0.9891742  0.94102693 0.99936183 0.91446845\n",
            " 0.99212408 0.44702533 0.99806138 0.99641775 0.99817594 0.96826098\n",
            " 0.99534958 0.97944737 0.97648384 0.99849677 0.92626702 0.99850658\n",
            " 0.99837888 0.99588467]\n",
            "Mean Accuracy: 0.9546735159110252\n",
            "Std: 0.11904795006074899\n"
          ]
        }
      ],
      "source": [
        "scores = cross_val_score(search.best_estimator_, X, y, cv=20)\n",
        "print(scores)\n",
        "print(f\"Mean Accuracy: {np.mean(scores)}\")\n",
        "print(f\"Std: {np.std(scores)}\")"
      ]
    },
    {
      "cell_type": "code",
      "execution_count": 57,
      "metadata": {
        "colab": {
          "base_uri": "https://localhost:8080/",
          "height": 404
        },
        "id": "Hqtk3mER_FV5",
        "outputId": "4e9015fe-1b32-4830-f728-7e1fd66b9101"
      },
      "outputs": [
        {
          "data": {
            "image/png": "[encoded data removed]",
            "text/plain": [
              "<Figure size 432x288 with 1 Axes>"
            ]
          },
          "metadata": {
            "needs_background": "light"
          },
          "output_type": "display_data"
        },
        {
          "name": "stdout",
          "output_type": "stream",
          "text": [
            "[101.56726643 226.72873646 129.99040178]\n",
            "R^2: 0.9653750746411524\n",
            "MSE(mean): 2.3284752788856213\n",
            "MSE(std): 17.801301436454526\n",
            "CI (95%): 34.89055081545087\n",
            "MSE(mean (no outlier)): 0.5160215486084588\n",
            "MSE(std (no outlier)): 3.1913609311232762\n",
            "CI (95%):  6.255067425001621\n"
          ]
        }
      ],
      "source": [
        "loocv(X, y, search.best_estimator_)"
      ]
    },
    {
      "cell_type": "code",
      "execution_count": 58,
      "metadata": {
        "colab": {
          "base_uri": "https://localhost:8080/"
        },
        "id": "xByW31kq1Bu5",
        "outputId": "238bfdd0-2121-47b4-bf69-3622fac2ce38"
      },
      "outputs": [
        {
          "data": {
            "text/plain": [
              "GridSearchCV(cv=20, estimator=ExtraTreesRegressor(),\n",
              "             param_grid={'max_depth': [1, 2, 3, 4, 5],\n",
              "                         'n_estimators': [10, 25, 50, 100, 200, 300, 400]})"
            ]
          },
          "execution_count": 58,
          "metadata": {},
          "output_type": "execute_result"
        }
      ],
      "source": [
        "from sklearn.ensemble import ExtraTreesRegressor\n",
        "ext = ExtraTreesRegressor()\n",
        "params = {\n",
        "    'max_depth': [1, 2, 3, 4, 5],\n",
        "    'n_estimators':[10, 25, 50, 100, 200, 300, 400]\n",
        "}\n",
        "search = GridSearchCV(cv=20, param_grid=params, estimator=ext)\n",
        "search.fit(X, y)"
      ]
    },
    {
      "cell_type": "code",
      "execution_count": 59,
      "metadata": {
        "colab": {
          "base_uri": "https://localhost:8080/"
        },
        "id": "FYOcsRVG2HfV",
        "outputId": "3bf6f669-aa46-41d2-c280-5605541368bf"
      },
      "outputs": [
        {
          "data": {
            "text/plain": [
              "{'max_depth': 5, 'n_estimators': 50}"
            ]
          },
          "execution_count": 59,
          "metadata": {},
          "output_type": "execute_result"
        }
      ],
      "source": [
        "search.best_params_"
      ]
    },
    {
      "cell_type": "code",
      "execution_count": 60,
      "metadata": {
        "colab": {
          "base_uri": "https://localhost:8080/"
        },
        "id": "JBz5dXEW2Iha",
        "outputId": "ec8b0ec2-d1ae-4cf3-eb74-45b2b5b968a9"
      },
      "outputs": [
        {
          "name": "stdout",
          "output_type": "stream",
          "text": [
            "[0.95670047 0.96594567 0.99397507 0.95658595 0.99550896 0.95246584\n",
            " 0.97988973 0.65295655 0.97202824 0.98158636 0.97014872 0.98996725\n",
            " 0.97934886 0.97380434 0.98498046 0.97983035 0.92467618 0.98317472\n",
            " 0.98581744 0.98895236]\n",
            "Mean Accuracy: 0.9584171755878635\n",
            "Std: 0.07198421013026272\n"
          ]
        }
      ],
      "source": [
        "scores = cross_val_score(search.best_estimator_, X, y, cv=20)\n",
        "print(scores)\n",
        "print(f\"Mean Accuracy: {np.mean(scores)}\")\n",
        "print(f\"Std: {np.std(scores)}\")"
      ]
    },
    {
      "cell_type": "code",
      "execution_count": 61,
      "metadata": {
        "colab": {
          "base_uri": "https://localhost:8080/",
          "height": 404
        },
        "id": "ixl3iVhA_GZQ",
        "outputId": "6d76f819-32e1-4fff-8c9c-8673bf664457"
      },
      "outputs": [
        {
          "data": {
            "image/png": "[encoded data removed]",
            "text/plain": [
              "<Figure size 432x288 with 1 Axes>"
            ]
          },
          "metadata": {
            "needs_background": "light"
          },
          "output_type": "display_data"
        },
        {
          "name": "stdout",
          "output_type": "stream",
          "text": [
            "[71.27447812 63.9458957  82.25639608]\n",
            "R^2: 0.9676740918135232\n",
            "MSE(mean): 1.8799726587326508\n",
            "MSE(std): 8.199337743906193\n",
            "CI (95%): 16.07070197805614\n",
            "MSE(mean (no outlier)): 1.0292222493530505\n",
            "MSE(std (no outlier)): 2.5612004709183314\n",
            "CI (95%):  5.01995292299993\n"
          ]
        }
      ],
      "source": [
        "loocv(X, y, search.best_estimator_)"
      ]
    },
    {
      "cell_type": "code",
      "execution_count": 62,
      "metadata": {
        "colab": {
          "base_uri": "https://localhost:8080/"
        },
        "id": "8jM-A4Z23P6Y",
        "outputId": "6e8ababf-2619-4f05-fa16-6102ccea2c81"
      },
      "outputs": [
        {
          "data": {
            "text/plain": [
              "GridSearchCV(cv=20, estimator=AdaBoostRegressor(),\n",
              "             param_grid={'learning_rate': [0.25, 0.5, 1, 2],\n",
              "                         'n_estimators': [10, 25, 50, 100, 200]})"
            ]
          },
          "execution_count": 62,
          "metadata": {},
          "output_type": "execute_result"
        }
      ],
      "source": [
        "from sklearn.ensemble import AdaBoostRegressor\n",
        "ada = AdaBoostRegressor()\n",
        "params = {\n",
        "    'n_estimators':[10, 25, 50, 100, 200],\n",
        "    'learning_rate': [0.25, 0.5, 1, 2]\n",
        "}\n",
        "search = GridSearchCV(cv=20, param_grid=params, estimator=ada)\n",
        "search.fit(X, y)"
      ]
    },
    {
      "cell_type": "code",
      "execution_count": 63,
      "metadata": {
        "colab": {
          "base_uri": "https://localhost:8080/"
        },
        "id": "ddQK8Uqi3-oH",
        "outputId": "6efe836f-09c7-498a-c0e4-9bebbc1c4cb0"
      },
      "outputs": [
        {
          "data": {
            "text/plain": [
              "{'learning_rate': 0.25, 'n_estimators': 25}"
            ]
          },
          "execution_count": 63,
          "metadata": {},
          "output_type": "execute_result"
        }
      ],
      "source": [
        "search.best_params_"
      ]
    },
    {
      "cell_type": "code",
      "execution_count": 64,
      "metadata": {
        "colab": {
          "base_uri": "https://localhost:8080/"
        },
        "id": "lA01nu9M4AnE",
        "outputId": "b0903e1b-3534-4aaf-db7e-1a1240f715e7"
      },
      "outputs": [
        {
          "name": "stdout",
          "output_type": "stream",
          "text": [
            "[0.96761778 0.94134355 0.96732499 0.93528801 0.9906477  0.87770931\n",
            " 0.97862255 0.52422062 0.97378681 0.9635161  0.97903425 0.97598743\n",
            " 0.9664517  0.94616978 0.95334868 0.99013764 0.91194568 0.97381196\n",
            " 0.99260777 0.98495073]\n",
            "Mean Accuracy: 0.9397261517888177\n",
            "Std: 0.09924790007716437\n"
          ]
        }
      ],
      "source": [
        "scores = cross_val_score(search.best_estimator_, X, y, cv=20)\n",
        "print(scores)\n",
        "print(f\"Mean Accuracy: {np.mean(scores)}\")\n",
        "print(f\"Std: {np.std(scores)}\")"
      ]
    },
    {
      "cell_type": "code",
      "execution_count": 65,
      "metadata": {
        "colab": {
          "base_uri": "https://localhost:8080/",
          "height": 404
        },
        "id": "o69t-Tcj5YBt",
        "outputId": "43dba69b-a2ea-4f26-bab1-c17a2f4bc5e6"
      },
      "outputs": [
        {
          "data": {
            "image/png": "[encoded data removed]",
            "text/plain": [
              "<Figure size 432x288 with 1 Axes>"
            ]
          },
          "metadata": {
            "needs_background": "light"
          },
          "output_type": "display_data"
        },
        {
          "name": "stdout",
          "output_type": "stream",
          "text": [
            "[ 97.456384    57.8911088  160.20326531 123.58027778]\n",
            "R^2: 0.95007020252998\n",
            "MSE(mean): 3.185803880776793\n",
            "MSE(std): 14.874084573617997\n",
            "CI (95%): 29.153205764291275\n",
            "MSE(mean (no outlier)): 1.4664981535193666\n",
            "MSE(std (no outlier)): 4.0111028058832785\n",
            "CI (95%):  7.861761499531226\n"
          ]
        }
      ],
      "source": [
        "loocv(X, y, search.best_estimator_)"
      ]
    },
    {
      "cell_type": "code",
      "execution_count": 66,
      "metadata": {
        "colab": {
          "base_uri": "https://localhost:8080/"
        },
        "id": "qbNy4XU7Yj9N",
        "outputId": "7010c576-85c8-4b2b-ac8f-36049996394b"
      },
      "outputs": [
        {
          "data": {
            "text/plain": [
              "GridSearchCV(cv=20, estimator=DecisionTreeRegressor(),\n",
              "             param_grid={'max_depth': [1, 2, 3, 5, 8, None]})"
            ]
          },
          "execution_count": 66,
          "metadata": {},
          "output_type": "execute_result"
        }
      ],
      "source": [
        "from sklearn.tree import DecisionTreeRegressor\n",
        "dt = DecisionTreeRegressor()\n",
        "params = {\n",
        "    'max_depth': [1, 2, 3, 5, 8, None]\n",
        "}\n",
        "search = GridSearchCV(cv=20, param_grid=params, estimator=dt)\n",
        "search.fit(X, y)"
      ]
    },
    {
      "cell_type": "code",
      "execution_count": 67,
      "metadata": {
        "colab": {
          "base_uri": "https://localhost:8080/"
        },
        "id": "kEc5yrJTZWjU",
        "outputId": "4f621407-6453-4fb2-de09-e671ea34ca81"
      },
      "outputs": [
        {
          "data": {
            "text/plain": [
              "{'max_depth': None}"
            ]
          },
          "execution_count": 67,
          "metadata": {},
          "output_type": "execute_result"
        }
      ],
      "source": [
        "search.best_params_"
      ]
    },
    {
      "cell_type": "code",
      "execution_count": 68,
      "metadata": {
        "colab": {
          "base_uri": "https://localhost:8080/",
          "height": 405
        },
        "id": "veO293LdZXvU",
        "outputId": "cc54938c-afbe-488a-e543-6cdafc923cc5"
      },
      "outputs": [
        {
          "data": {
            "image/png": "[encoded data removed]",
            "text/plain": [
              "<Figure size 432x288 with 1 Axes>"
            ]
          },
          "metadata": {
            "needs_background": "light"
          },
          "output_type": "display_data"
        },
        {
          "name": "stdout",
          "output_type": "stream",
          "text": [
            "[ 54.76 166.41 207.36  73.96  88.36  54.76]\n",
            "R^2: 0.9587218833041083\n",
            "MSE(mean): 2.9448412698412696\n",
            "MSE(std): 18.820546807084582\n",
            "CI (95%): 36.88827174188578\n",
            "MSE(mean (no outlier)): 0.3922357723577237\n",
            "MSE(std (no outlier)): 2.422663378773539\n",
            "CI (95%):  4.7484202223961365\n"
          ]
        }
      ],
      "source": [
        "loocv(X, y, search.best_estimator_)"
      ]
    },
    {
      "cell_type": "code",
      "execution_count": 69,
      "metadata": {
        "colab": {
          "base_uri": "https://localhost:8080/"
        },
        "id": "LCF-JLFuZt4n",
        "outputId": "cde8e2cc-7812-49b3-973f-63da97a8f2a1"
      },
      "outputs": [
        {
          "name": "stdout",
          "output_type": "stream",
          "text": [
            "[0.75794868 0.9503683  0.96783029 0.9381478  0.99829469 0.96716601\n",
            " 0.96099197 0.45460113 0.9958344  0.99752635 0.99072383 0.99908757\n",
            " 0.99660367 0.99083609 0.91060711 0.9991547  0.96560571 0.99845577\n",
            " 0.99875082 0.9970998 ]\n",
            "Mean Accuracy: 0.9417817350058384\n",
            "Std: 0.12401228201873206\n"
          ]
        }
      ],
      "source": [
        "scores = cross_val_score(search.best_estimator_, X, y, cv=20)\n",
        "print(scores)\n",
        "print(f\"Mean Accuracy: {np.mean(scores)}\")\n",
        "print(f\"Std: {np.std(scores)}\")"
      ]
    }
  ],
  "metadata": {
    "colab": {
      "collapsed_sections": [],
      "name": "stat451 project",
      "provenance": []
    },
    "kernelspec": {
      "display_name": "Python 3",
      "name": "python3"
    },
    "language_info": {
      "name": "python",
      "version": "3.8.12"
    }
  },
  "nbformat": 4,
  "nbformat_minor": 0
}
