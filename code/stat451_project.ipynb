{
  "nbformat": 4,
  "nbformat_minor": 0,
  "metadata": {
    "colab": {
      "name": "stat451 project",
      "provenance": [],
      "collapsed_sections": []
    },
    "kernelspec": {
      "name": "python3",
      "display_name": "Python 3"
    },
    "language_info": {
      "name": "python"
    }
  },
  "cells": [
    {
      "cell_type": "code",
      "metadata": {
        "colab": {
          "base_uri": "https://localhost:8080/"
        },
        "id": "wzSla8T6RehM",
        "outputId": "d0b4a8c8-d3bc-44e8-effd-c6513f3d27d3"
      },
      "source": [
        "#connect to google drive\n",
        "from google.colab import drive\n",
        "drive.mount('/content/drive')"
      ],
      "execution_count": 1,
      "outputs": [
        {
          "output_type": "stream",
          "name": "stdout",
          "text": [
            "Mounted at /content/drive\n"
          ]
        }
      ]
    },
    {
      "cell_type": "code",
      "metadata": {
        "id": "yNl2xHiqSU6q"
      },
      "source": [
        "#major imports\n",
        "import pandas\n",
        "import numpy as np\n",
        "import sklearn"
      ],
      "execution_count": 2,
      "outputs": []
    },
    {
      "cell_type": "code",
      "metadata": {
        "id": "FCpKoqaSUQpl"
      },
      "source": [
        "#import data\n",
        "df = pandas.read_csv('/content/drive/MyDrive/bodyfat.csv')"
      ],
      "execution_count": 3,
      "outputs": []
    },
    {
      "cell_type": "code",
      "metadata": {
        "colab": {
          "base_uri": "https://localhost:8080/",
          "height": 206
        },
        "id": "nNQEapfKXOKD",
        "outputId": "db3769fc-6d8f-4033-d0f9-a7db98da9d48"
      },
      "source": [
        "df.head()"
      ],
      "execution_count": 4,
      "outputs": [
        {
          "output_type": "execute_result",
          "data": {
            "text/html": [
              "<div>\n",
              "<style scoped>\n",
              "    .dataframe tbody tr th:only-of-type {\n",
              "        vertical-align: middle;\n",
              "    }\n",
              "\n",
              "    .dataframe tbody tr th {\n",
              "        vertical-align: top;\n",
              "    }\n",
              "\n",
              "    .dataframe thead th {\n",
              "        text-align: right;\n",
              "    }\n",
              "</style>\n",
              "<table border=\"1\" class=\"dataframe\">\n",
              "  <thead>\n",
              "    <tr style=\"text-align: right;\">\n",
              "      <th></th>\n",
              "      <th>Density</th>\n",
              "      <th>BodyFat</th>\n",
              "      <th>Age</th>\n",
              "      <th>Weight</th>\n",
              "      <th>Height</th>\n",
              "      <th>Neck</th>\n",
              "      <th>Chest</th>\n",
              "      <th>Abdomen</th>\n",
              "      <th>Hip</th>\n",
              "      <th>Thigh</th>\n",
              "      <th>Knee</th>\n",
              "      <th>Ankle</th>\n",
              "      <th>Biceps</th>\n",
              "      <th>Forearm</th>\n",
              "      <th>Wrist</th>\n",
              "    </tr>\n",
              "  </thead>\n",
              "  <tbody>\n",
              "    <tr>\n",
              "      <th>0</th>\n",
              "      <td>1.0708</td>\n",
              "      <td>12.3</td>\n",
              "      <td>23</td>\n",
              "      <td>154.25</td>\n",
              "      <td>67.75</td>\n",
              "      <td>36.2</td>\n",
              "      <td>93.1</td>\n",
              "      <td>85.2</td>\n",
              "      <td>94.5</td>\n",
              "      <td>59.0</td>\n",
              "      <td>37.3</td>\n",
              "      <td>21.9</td>\n",
              "      <td>32.0</td>\n",
              "      <td>27.4</td>\n",
              "      <td>17.1</td>\n",
              "    </tr>\n",
              "    <tr>\n",
              "      <th>1</th>\n",
              "      <td>1.0853</td>\n",
              "      <td>6.1</td>\n",
              "      <td>22</td>\n",
              "      <td>173.25</td>\n",
              "      <td>72.25</td>\n",
              "      <td>38.5</td>\n",
              "      <td>93.6</td>\n",
              "      <td>83.0</td>\n",
              "      <td>98.7</td>\n",
              "      <td>58.7</td>\n",
              "      <td>37.3</td>\n",
              "      <td>23.4</td>\n",
              "      <td>30.5</td>\n",
              "      <td>28.9</td>\n",
              "      <td>18.2</td>\n",
              "    </tr>\n",
              "    <tr>\n",
              "      <th>2</th>\n",
              "      <td>1.0414</td>\n",
              "      <td>25.3</td>\n",
              "      <td>22</td>\n",
              "      <td>154.00</td>\n",
              "      <td>66.25</td>\n",
              "      <td>34.0</td>\n",
              "      <td>95.8</td>\n",
              "      <td>87.9</td>\n",
              "      <td>99.2</td>\n",
              "      <td>59.6</td>\n",
              "      <td>38.9</td>\n",
              "      <td>24.0</td>\n",
              "      <td>28.8</td>\n",
              "      <td>25.2</td>\n",
              "      <td>16.6</td>\n",
              "    </tr>\n",
              "    <tr>\n",
              "      <th>3</th>\n",
              "      <td>1.0751</td>\n",
              "      <td>10.4</td>\n",
              "      <td>26</td>\n",
              "      <td>184.75</td>\n",
              "      <td>72.25</td>\n",
              "      <td>37.4</td>\n",
              "      <td>101.8</td>\n",
              "      <td>86.4</td>\n",
              "      <td>101.2</td>\n",
              "      <td>60.1</td>\n",
              "      <td>37.3</td>\n",
              "      <td>22.8</td>\n",
              "      <td>32.4</td>\n",
              "      <td>29.4</td>\n",
              "      <td>18.2</td>\n",
              "    </tr>\n",
              "    <tr>\n",
              "      <th>4</th>\n",
              "      <td>1.0340</td>\n",
              "      <td>28.7</td>\n",
              "      <td>24</td>\n",
              "      <td>184.25</td>\n",
              "      <td>71.25</td>\n",
              "      <td>34.4</td>\n",
              "      <td>97.3</td>\n",
              "      <td>100.0</td>\n",
              "      <td>101.9</td>\n",
              "      <td>63.2</td>\n",
              "      <td>42.2</td>\n",
              "      <td>24.0</td>\n",
              "      <td>32.2</td>\n",
              "      <td>27.7</td>\n",
              "      <td>17.7</td>\n",
              "    </tr>\n",
              "  </tbody>\n",
              "</table>\n",
              "</div>"
            ],
            "text/plain": [
              "   Density  BodyFat  Age  Weight  Height  ...  Knee  Ankle  Biceps  Forearm  Wrist\n",
              "0   1.0708     12.3   23  154.25   67.75  ...  37.3   21.9    32.0     27.4   17.1\n",
              "1   1.0853      6.1   22  173.25   72.25  ...  37.3   23.4    30.5     28.9   18.2\n",
              "2   1.0414     25.3   22  154.00   66.25  ...  38.9   24.0    28.8     25.2   16.6\n",
              "3   1.0751     10.4   26  184.75   72.25  ...  37.3   22.8    32.4     29.4   18.2\n",
              "4   1.0340     28.7   24  184.25   71.25  ...  42.2   24.0    32.2     27.7   17.7\n",
              "\n",
              "[5 rows x 15 columns]"
            ]
          },
          "metadata": {},
          "execution_count": 4
        }
      ]
    },
    {
      "cell_type": "code",
      "metadata": {
        "colab": {
          "base_uri": "https://localhost:8080/",
          "height": 610
        },
        "id": "P8tpnPYMhvTs",
        "outputId": "fb31a693-4a8f-48d9-8cd7-b8dfe644ecb2"
      },
      "source": [
        "df['BodyFat'].hist(bins=30, figsize=(15, 10))"
      ],
      "execution_count": 5,
      "outputs": [
        {
          "output_type": "execute_result",
          "data": {
            "text/plain": [
              "<matplotlib.axes._subplots.AxesSubplot at 0x7f01ffe5a2d0>"
            ]
          },
          "metadata": {},
          "execution_count": 5
        },
        {
          "output_type": "display_data",
          "data": {
            "image/png": "[encoded data removed]",
            "text/plain": [
              "<Figure size 1080x720 with 1 Axes>"
            ]
          },
          "metadata": {
            "needs_background": "light"
          }
        }
      ]
    },
    {
      "cell_type": "code",
      "metadata": {
        "id": "bvht93ynXArC"
      },
      "source": [
        "from sklearn.model_selection import train_test_split\n",
        "X = df.drop(columns=['BodyFat'])\n",
        "y = df['BodyFat']\n",
        "\n",
        "X_train, X_test, y_train, y_test = train_test_split(X, y, train_size=0.75)"
      ],
      "execution_count": 6,
      "outputs": []
    },
    {
      "cell_type": "code",
      "metadata": {
        "colab": {
          "base_uri": "https://localhost:8080/"
        },
        "id": "ElX0ZUC1WIdD",
        "outputId": "95084542-6624-4dc3-86c7-188c2445d7d5"
      },
      "source": [
        "len(y)"
      ],
      "execution_count": 7,
      "outputs": [
        {
          "output_type": "execute_result",
          "data": {
            "text/plain": [
              "252"
            ]
          },
          "metadata": {},
          "execution_count": 7
        }
      ]
    },
    {
      "cell_type": "code",
      "metadata": {
        "id": "y_JsAD2-T9i6"
      },
      "source": [
        "#baseline linear regression model\n",
        "from sklearn.linear_model import LinearRegression\n",
        "lr = LinearRegression()\n"
      ],
      "execution_count": 8,
      "outputs": []
    },
    {
      "cell_type": "code",
      "metadata": {
        "id": "5Cftlo0tVcOS",
        "colab": {
          "base_uri": "https://localhost:8080/"
        },
        "outputId": "5f919d31-91cc-480c-d553-2bd136617031"
      },
      "source": [
        "#20 fold cv\n",
        "from sklearn.model_selection import cross_val_score\n",
        "scores = cross_val_score(lr, X, y, cv=20)\n",
        "print(scores)\n",
        "print(f\"Mean Accuracy: {np.mean(scores)}\")\n",
        "print(f\"Std: {np.std(scores)}\")"
      ],
      "execution_count": 9,
      "outputs": [
        {
          "output_type": "stream",
          "name": "stdout",
          "text": [
            "[0.9945235  0.9920098  0.99612867 0.95623739 0.99867024 0.96858177\n",
            " 0.98245364 0.19916359 0.98543487 0.99529295 0.97511524 0.99754105\n",
            " 0.99545026 0.99759678 0.9815012  0.99335812 0.99402146 0.99387295\n",
            " 0.99085995 0.9957109 ]\n",
            "Mean Accuracy: 0.9491762164444859\n",
            "Std: 0.1724015910141823\n"
          ]
        }
      ]
    },
    {
      "cell_type": "code",
      "metadata": {
        "colab": {
          "base_uri": "https://localhost:8080/"
        },
        "id": "94VuSxsaeULu",
        "outputId": "99b75ed7-09af-41d8-da32-28c60a493825"
      },
      "source": [
        "print(X)\n",
        "print(y)"
      ],
      "execution_count": 10,
      "outputs": [
        {
          "output_type": "stream",
          "name": "stdout",
          "text": [
            "     Density  Age  Weight  Height  Neck  ...  Knee  Ankle  Biceps  Forearm  Wrist\n",
            "0     1.0708   23  154.25   67.75  36.2  ...  37.3   21.9    32.0     27.4   17.1\n",
            "1     1.0853   22  173.25   72.25  38.5  ...  37.3   23.4    30.5     28.9   18.2\n",
            "2     1.0414   22  154.00   66.25  34.0  ...  38.9   24.0    28.8     25.2   16.6\n",
            "3     1.0751   26  184.75   72.25  37.4  ...  37.3   22.8    32.4     29.4   18.2\n",
            "4     1.0340   24  184.25   71.25  34.4  ...  42.2   24.0    32.2     27.7   17.7\n",
            "..       ...  ...     ...     ...   ...  ...   ...    ...     ...      ...    ...\n",
            "247   1.0736   70  134.25   67.00  34.9  ...  34.8   21.5    25.6     25.7   18.5\n",
            "248   1.0236   72  201.00   69.75  40.9  ...  40.8   23.2    35.2     28.6   20.1\n",
            "249   1.0328   72  186.75   66.00  38.9  ...  37.3   21.5    31.3     27.2   18.0\n",
            "250   1.0399   72  190.75   70.50  38.9  ...  41.6   22.7    30.5     29.4   19.8\n",
            "251   1.0271   74  207.50   70.00  40.8  ...  42.2   24.6    33.7     30.0   20.9\n",
            "\n",
            "[252 rows x 14 columns]\n",
            "0      12.3\n",
            "1       6.1\n",
            "2      25.3\n",
            "3      10.4\n",
            "4      28.7\n",
            "       ... \n",
            "247    11.0\n",
            "248    33.6\n",
            "249    29.3\n",
            "250    26.0\n",
            "251    31.9\n",
            "Name: BodyFat, Length: 252, dtype: float64\n"
          ]
        }
      ]
    },
    {
      "cell_type": "code",
      "metadata": {
        "id": "gRPsP0eI7T6J"
      },
      "source": [
        "#LOOCV\n",
        "from sklearn.model_selection import LeaveOneOut\n",
        "from sklearn.metrics import r2_score, mean_squared_error\n",
        "from matplotlib import pyplot as plt \n",
        "def loocv(X ,y, estimator):\n",
        "  cv = LeaveOneOut()\n",
        "  y_true, y_pred = [], []\n",
        "  for train_idx, test_idx in cv.split(X):\n",
        "    #print(train_idx)\n",
        "    #print(test_idx)\n",
        "    X_train, X_test = X.iloc[train_idx, :].values, X.iloc[test_idx, :].values\n",
        "    y_train, y_test = y.iloc[train_idx].values, y.iloc[test_idx].values\n",
        "    estimator.fit(X_train, y_train)\n",
        "    yhat = estimator.predict(X_test)\n",
        "    y_true.append(y_test[0])\n",
        "    y_pred.append(yhat[0])\n",
        "\n",
        "  \n",
        "  \n",
        "  scores = (np.array(y_true) - np.array(y_pred)) ** 2\n",
        "  hist, bins = np.histogram(scores, bins=30)\n",
        "  plt.hist(hist, bins=bins)\n",
        "  plt.show()\n",
        "  scores_n_outlier = scores[np.where(scores < 50)] #remove outlier MSE\n",
        "  print(scores[np.where(scores > 50)])\n",
        "\n",
        "  print(\"R^2: \" + str(r2_score(y_pred, y_true)))\n",
        "  #print(scores)\n",
        "  print(\"MSE(mean): \" + str(np.mean(scores)))\n",
        "  print(\"MSE(std): \" + str(np.std(scores)))\n",
        "  print(\"CI (95%): \" + str(1.96 * np.std(scores)))\n",
        "\n",
        "  print(\"MSE(mean (no outlier)): \" + str(np.mean(scores_n_outlier)))\n",
        "  print(\"MSE(std (no outlier)): \" + str(np.std(scores_n_outlier)))\n",
        "  print(\"CI (95%):  \" + str(1.96 * np.std(scores_n_outlier)))"
      ],
      "execution_count": 11,
      "outputs": []
    },
    {
      "cell_type": "code",
      "metadata": {
        "colab": {
          "base_uri": "https://localhost:8080/",
          "height": 412
        },
        "id": "04sxsfAt8eFv",
        "outputId": "0f261162-3ae0-4e08-c7c7-e98143c69af4"
      },
      "source": [
        "loocv(X, y, lr)"
      ],
      "execution_count": 12,
      "outputs": [
        {
          "output_type": "display_data",
          "data": {
            "image/png": "[encoded data removed]",
            "text/plain": [
              "<Figure size 432x288 with 1 Axes>"
            ]
          },
          "metadata": {
            "needs_background": "light"
          }
        },
        {
          "output_type": "stream",
          "name": "stdout",
          "text": [
            "[ 76.03957069 305.85000387]\n",
            "R^2: 0.972024907871995\n",
            "MSE(mean): 1.9149040552817538\n",
            "MSE(std): 19.837370091667278\n",
            "CI (95%): 38.88124537966787\n",
            "MSE(mean (no outlier)): 0.402664989478171\n",
            "MSE(std (no outlier)): 1.702501325422355\n",
            "CI (95%):  3.336902597827816\n"
          ]
        }
      ]
    },
    {
      "cell_type": "code",
      "metadata": {
        "colab": {
          "base_uri": "https://localhost:8080/"
        },
        "id": "-2zSHI1_X_wT",
        "outputId": "0ca3ad66-005a-468e-fec6-20b87644c9d0"
      },
      "source": [
        "#baseline xgboost\n",
        "from sklearn.ensemble import GradientBoostingRegressor\n",
        "gb = GradientBoostingRegressor()\n",
        "scores = cross_val_score(gb, X, y, cv=20)\n",
        "print(scores)\n",
        "print(f\"Mean Accuracy: {np.mean(scores)}\")\n",
        "print(f\"Std: {np.std(scores)}\")"
      ],
      "execution_count": 13,
      "outputs": [
        {
          "output_type": "stream",
          "name": "stdout",
          "text": [
            "[0.97032373 0.97671571 0.99549598 0.93966033 0.99360158 0.96033536\n",
            " 0.99911273 0.29564374 0.99869747 0.99968917 0.99834461 0.98835158\n",
            " 0.98901439 0.98705905 0.97092007 0.99900188 0.95349617 0.99878109\n",
            " 0.99752508 0.99825211]\n",
            "Mean Accuracy: 0.9505010920408434\n",
            "Std: 0.15120552115733982\n"
          ]
        }
      ]
    },
    {
      "cell_type": "code",
      "metadata": {
        "colab": {
          "base_uri": "https://localhost:8080/"
        },
        "id": "mnoXGUN8YW6T",
        "outputId": "87ee0056-de59-4bcd-ece3-7f39f8d46bdd"
      },
      "source": [
        "#gridsearchCV\n",
        "from sklearn.model_selection import GridSearchCV\n",
        "gbm = GradientBoostingRegressor()\n",
        "params = {\n",
        "    'max_depth': [1, 2, 3, 4, 5],\n",
        "    'n_estimators':[25, 50, 100, 200]\n",
        "}\n",
        "search = GridSearchCV(cv=20, param_grid=params, estimator=gbm)\n",
        "search.fit(X, y)"
      ],
      "execution_count": 14,
      "outputs": [
        {
          "output_type": "execute_result",
          "data": {
            "text/plain": [
              "GridSearchCV(cv=20, estimator=GradientBoostingRegressor(),\n",
              "             param_grid={'max_depth': [1, 2, 3, 4, 5],\n",
              "                         'n_estimators': [25, 50, 100, 200]})"
            ]
          },
          "metadata": {},
          "execution_count": 14
        }
      ]
    },
    {
      "cell_type": "code",
      "metadata": {
        "id": "2TfxUNZZaH1x",
        "colab": {
          "base_uri": "https://localhost:8080/"
        },
        "outputId": "1b50cd5f-164e-44f6-fd6a-0601671f07b0"
      },
      "source": [
        "search.best_params_"
      ],
      "execution_count": 15,
      "outputs": [
        {
          "output_type": "execute_result",
          "data": {
            "text/plain": [
              "{'max_depth': 2, 'n_estimators': 50}"
            ]
          },
          "metadata": {},
          "execution_count": 15
        }
      ]
    },
    {
      "cell_type": "code",
      "metadata": {
        "id": "51lzi3MPaPSr",
        "colab": {
          "base_uri": "https://localhost:8080/"
        },
        "outputId": "c643c904-4057-4aff-8199-560aa1ee348a"
      },
      "source": [
        "scores = cross_val_score(search.best_estimator_, X, y, cv=20)\n",
        "print(scores)\n",
        "print(f\"Mean Accuracy: {np.mean(scores)}\")\n",
        "print(f\"Std: {np.std(scores)}\")"
      ],
      "execution_count": 16,
      "outputs": [
        {
          "output_type": "stream",
          "name": "stdout",
          "text": [
            "[0.98404264 0.9937036  0.99378568 0.93913256 0.99814698 0.93953872\n",
            " 0.99823368 0.35030765 0.99751174 0.99867945 0.99421653 0.98895084\n",
            " 0.99862936 0.97765776 0.96870696 0.99751311 0.94586198 0.99712309\n",
            " 0.99905061 0.99662363]\n",
            "Mean Accuracy: 0.9528708272254056\n",
            "Std: 0.13963851586599382\n"
          ]
        }
      ]
    },
    {
      "cell_type": "code",
      "metadata": {
        "id": "GIeqxnNz-fJj",
        "colab": {
          "base_uri": "https://localhost:8080/",
          "height": 412
        },
        "outputId": "c6119155-aabd-44cb-e36b-4c1538cd5828"
      },
      "source": [
        "loocv(X, y, search.best_estimator_)"
      ],
      "execution_count": 17,
      "outputs": [
        {
          "output_type": "display_data",
          "data": {
            "image/png": "[encoded data removed]",
            "text/plain": [
              "<Figure size 432x288 with 1 Axes>"
            ]
          },
          "metadata": {
            "needs_background": "light"
          }
        },
        {
          "output_type": "stream",
          "name": "stdout",
          "text": [
            "[ 90.29576255 237.52662016  82.82478496]\n",
            "R^2: 0.9654520840624068\n",
            "MSE(mean): 2.245915630089999\n",
            "MSE(std): 17.10446340747679\n",
            "CI (95%): 33.524748278654506\n",
            "MSE(mean (no outlier)): 0.6237894422288198\n",
            "MSE(std (no outlier)): 3.7319099166112117\n",
            "CI (95%):  7.314543436557975\n"
          ]
        }
      ]
    },
    {
      "cell_type": "code",
      "metadata": {
        "colab": {
          "base_uri": "https://localhost:8080/"
        },
        "id": "8odJzINHdXf3",
        "outputId": "b4bffedc-9429-48d3-f258-64b24a7d46f6"
      },
      "source": [
        "from sklearn.preprocessing import StandardScaler, RobustScaler, Normalizer, MinMaxScaler\n",
        "from sklearn.datasets import make_classification\n",
        "from sklearn.model_selection import train_test_split\n",
        "from sklearn.pipeline import Pipeline\n",
        "from sklearn.neighbors import KNeighborsRegressor\n",
        "from sklearn.decomposition import PCA\n",
        "\n",
        "pipe = Pipeline([('scaler', MinMaxScaler()), ('knn', KNeighborsRegressor())])\n",
        "params = {\n",
        "    'knn__n_neighbors': [1, 3, 5, 7, 9, 11, 13, 15],\n",
        "    'knn__metric': ['euclidean', 'manhattan', 'minkowski'],\n",
        "    'knn__weights': ['uniform', 'distance']\n",
        "}\n",
        "pipe.get_params().keys()\n",
        "search = GridSearchCV(cv=20, param_grid=params, estimator=pipe)\n",
        "search.fit(X, y)"
      ],
      "execution_count": 18,
      "outputs": [
        {
          "output_type": "execute_result",
          "data": {
            "text/plain": [
              "GridSearchCV(cv=20,\n",
              "             estimator=Pipeline(steps=[('scaler', MinMaxScaler()),\n",
              "                                       ('knn', KNeighborsRegressor())]),\n",
              "             param_grid={'knn__metric': ['euclidean', 'manhattan', 'minkowski'],\n",
              "                         'knn__n_neighbors': [1, 3, 5, 7, 9, 11, 13, 15],\n",
              "                         'knn__weights': ['uniform', 'distance']})"
            ]
          },
          "metadata": {},
          "execution_count": 18
        }
      ]
    },
    {
      "cell_type": "code",
      "metadata": {
        "colab": {
          "base_uri": "https://localhost:8080/"
        },
        "id": "ZknX7uyRfCFR",
        "outputId": "253354ba-57e3-4ba1-bd24-ec47700e0209"
      },
      "source": [
        "search.best_params_"
      ],
      "execution_count": 19,
      "outputs": [
        {
          "output_type": "execute_result",
          "data": {
            "text/plain": [
              "{'knn__metric': 'euclidean', 'knn__n_neighbors': 5, 'knn__weights': 'distance'}"
            ]
          },
          "metadata": {},
          "execution_count": 19
        }
      ]
    },
    {
      "cell_type": "code",
      "metadata": {
        "colab": {
          "base_uri": "https://localhost:8080/"
        },
        "id": "ujfpRpH7e9m5",
        "outputId": "97f26d85-a773-403b-81a2-85d0f283a458"
      },
      "source": [
        "scores = cross_val_score(search.best_estimator_, X, y, cv=20)\n",
        "print(scores)\n",
        "print(f\"Mean Accuracy: {np.mean(scores)}\")\n",
        "print(f\"Std: {np.std(scores)}\")"
      ],
      "execution_count": 20,
      "outputs": [
        {
          "output_type": "stream",
          "name": "stdout",
          "text": [
            "[0.64040167 0.75212218 0.89943309 0.92171078 0.88194013 0.82549636\n",
            " 0.41102288 0.88843762 0.57962876 0.8227252  0.44727527 0.94354819\n",
            " 0.77100495 0.86735508 0.91434934 0.84994658 0.84020946 0.84588379\n",
            " 0.83522724 0.74775318]\n",
            "Mean Accuracy: 0.7842735880167263\n",
            "Std: 0.147774834044069\n"
          ]
        }
      ]
    },
    {
      "cell_type": "code",
      "metadata": {
        "colab": {
          "base_uri": "https://localhost:8080/",
          "height": 412
        },
        "id": "sdKEhORA_DeH",
        "outputId": "0f5dcd93-a055-4a9c-dfd9-7b79ca94cb24"
      },
      "source": [
        "loocv(X, y, search.best_estimator_)"
      ],
      "execution_count": 21,
      "outputs": [
        {
          "output_type": "display_data",
          "data": {
            "image/png": "[encoded data removed]",
            "text/plain": [
              "<Figure size 432x288 with 1 Axes>"
            ]
          },
          "metadata": {
            "needs_background": "light"
          }
        },
        {
          "output_type": "stream",
          "name": "stdout",
          "text": [
            "[ 61.83072345  52.20021177  93.76294965 154.43704849]\n",
            "R^2: 0.8138780610352806\n",
            "MSE(mean): 8.584853367229837\n",
            "MSE(std): 14.95129171910962\n",
            "CI (95%): 29.304531769454854\n",
            "MSE(mean (no outlier)): 7.262710141824531\n",
            "MSE(std (no outlier)): 9.553172635096239\n",
            "CI (95%):  18.724218364788626\n"
          ]
        }
      ]
    },
    {
      "cell_type": "code",
      "metadata": {
        "id": "_NCS-lQMzROP",
        "colab": {
          "base_uri": "https://localhost:8080/"
        },
        "outputId": "84700600-3d1a-4169-bdc8-bb56f8d35ab9"
      },
      "source": [
        "from sklearn.ensemble import RandomForestRegressor\n",
        "rfc = RandomForestRegressor()\n",
        "params = {\n",
        "    'max_depth': [1, 2, 3, 4, 5, None],\n",
        "    'n_estimators':[10, 25, 50, 100, 200]\n",
        "}\n",
        "search = GridSearchCV(cv=20, param_grid=params, estimator=rfc)\n",
        "search.fit(X, y)\n"
      ],
      "execution_count": 22,
      "outputs": [
        {
          "output_type": "execute_result",
          "data": {
            "text/plain": [
              "GridSearchCV(cv=20, estimator=RandomForestRegressor(),\n",
              "             param_grid={'max_depth': [1, 2, 3, 4, 5, None],\n",
              "                         'n_estimators': [10, 25, 50, 100, 200]})"
            ]
          },
          "metadata": {},
          "execution_count": 22
        }
      ]
    },
    {
      "cell_type": "code",
      "metadata": {
        "id": "APLqwoi-zlHd",
        "colab": {
          "base_uri": "https://localhost:8080/"
        },
        "outputId": "e95874d8-f694-43ed-889b-2e6496bb2dcf"
      },
      "source": [
        "search.best_params_"
      ],
      "execution_count": 23,
      "outputs": [
        {
          "output_type": "execute_result",
          "data": {
            "text/plain": [
              "{'max_depth': None, 'n_estimators': 100}"
            ]
          },
          "metadata": {},
          "execution_count": 23
        }
      ]
    },
    {
      "cell_type": "code",
      "metadata": {
        "id": "NjxjzQrzzllF",
        "colab": {
          "base_uri": "https://localhost:8080/"
        },
        "outputId": "68940283-1c74-4404-b095-8c2f63aaabb4"
      },
      "source": [
        "scores = cross_val_score(search.best_estimator_, X, y, cv=20)\n",
        "print(scores)\n",
        "print(f\"Mean Accuracy: {np.mean(scores)}\")\n",
        "print(f\"Std: {np.std(scores)}\")"
      ],
      "execution_count": 24,
      "outputs": [
        {
          "output_type": "stream",
          "name": "stdout",
          "text": [
            "[0.99257083 0.9902384  0.9953554  0.94267646 0.99937792 0.93782115\n",
            " 0.99831865 0.41597421 0.99886805 0.99979637 0.99879949 0.985524\n",
            " 0.99094395 0.98120704 0.98945257 0.99912135 0.93107234 0.99747837\n",
            " 0.99939214 0.99801417]\n",
            "Mean Accuracy: 0.957100142854191\n",
            "Std: 0.12592197101174402\n"
          ]
        }
      ]
    },
    {
      "cell_type": "code",
      "metadata": {
        "id": "Hqtk3mER_FV5",
        "colab": {
          "base_uri": "https://localhost:8080/",
          "height": 412
        },
        "outputId": "08a441f0-4b1e-4c88-ca31-286fee38b40d"
      },
      "source": [
        "loocv(X, y, search.best_estimator_)"
      ],
      "execution_count": 25,
      "outputs": [
        {
          "output_type": "display_data",
          "data": {
            "image/png": "[encoded data removed]",
            "text/plain": [
              "<Figure size 432x288 with 1 Axes>"
            ]
          },
          "metadata": {
            "needs_background": "light"
          }
        },
        {
          "output_type": "stream",
          "name": "stdout",
          "text": [
            "[ 95.433361 220.344336 103.388224]\n",
            "R^2: 0.9693967423776446\n",
            "MSE(mean): 2.077291369047622\n",
            "MSE(std): 16.568726457433673\n",
            "CI (95%): 32.474703856569995\n",
            "MSE(mean (no outlier)): 0.4189217028112449\n",
            "MSE(std (no outlier)): 2.744222570220434\n",
            "CI (95%):  5.3786762376320505\n"
          ]
        }
      ]
    },
    {
      "cell_type": "code",
      "metadata": {
        "id": "xByW31kq1Bu5",
        "colab": {
          "base_uri": "https://localhost:8080/"
        },
        "outputId": "2b443ccd-b42a-4999-c193-e82872993e70"
      },
      "source": [
        "from sklearn.ensemble import ExtraTreesRegressor\n",
        "ext = ExtraTreesRegressor()\n",
        "params = {\n",
        "    'max_depth': [1, 2, 3, 4, 5, None],\n",
        "    'n_estimators':[10, 25, 50, 100, 200, 300, 400]\n",
        "}\n",
        "search = GridSearchCV(cv=20, param_grid=params, estimator=ext)\n",
        "search.fit(X, y)"
      ],
      "execution_count": 26,
      "outputs": [
        {
          "output_type": "execute_result",
          "data": {
            "text/plain": [
              "GridSearchCV(cv=20, estimator=ExtraTreesRegressor(),\n",
              "             param_grid={'max_depth': [1, 2, 3, 4, 5, None],\n",
              "                         'n_estimators': [10, 25, 50, 100, 200, 300, 400]})"
            ]
          },
          "metadata": {},
          "execution_count": 26
        }
      ]
    },
    {
      "cell_type": "code",
      "metadata": {
        "id": "FYOcsRVG2HfV",
        "colab": {
          "base_uri": "https://localhost:8080/"
        },
        "outputId": "73375e6a-e104-438c-cd22-d89cbceac0b4"
      },
      "source": [
        "search.best_params_"
      ],
      "execution_count": 27,
      "outputs": [
        {
          "output_type": "execute_result",
          "data": {
            "text/plain": [
              "{'max_depth': None, 'n_estimators': 100}"
            ]
          },
          "metadata": {},
          "execution_count": 27
        }
      ]
    },
    {
      "cell_type": "code",
      "metadata": {
        "id": "JBz5dXEW2Iha",
        "colab": {
          "base_uri": "https://localhost:8080/"
        },
        "outputId": "a2a8f455-c3bf-47c4-cb72-6fbea1653c0a"
      },
      "source": [
        "scores = cross_val_score(search.best_estimator_, X, y, cv=20)\n",
        "print(scores)\n",
        "print(f\"Mean Accuracy: {np.mean(scores)}\")\n",
        "print(f\"Std: {np.std(scores)}\")"
      ],
      "execution_count": 28,
      "outputs": [
        {
          "output_type": "stream",
          "name": "stdout",
          "text": [
            "[0.98664732 0.98483363 0.99950635 0.94131724 0.99975427 0.94721658\n",
            " 0.9974673  0.68601392 0.99817372 0.99927152 0.99535441 0.99729318\n",
            " 0.99083327 0.99058199 0.99338329 0.99694266 0.94872576 0.99658691\n",
            " 0.99857348 0.99675338]\n",
            "Mean Accuracy: 0.972261509030883\n",
            "Std: 0.06810120136362863\n"
          ]
        }
      ]
    },
    {
      "cell_type": "code",
      "metadata": {
        "id": "ixl3iVhA_GZQ",
        "colab": {
          "base_uri": "https://localhost:8080/",
          "height": 412
        },
        "outputId": "03bb960f-ab32-4ae1-f259-f946e785b663"
      },
      "source": [
        "loocv(X, y, search.best_estimator_)"
      ],
      "execution_count": 29,
      "outputs": [
        {
          "output_type": "display_data",
          "data": {
            "image/png": "[encoded data removed]",
            "text/plain": [
              "<Figure size 432x288 with 1 Axes>"
            ]
          },
          "metadata": {
            "needs_background": "light"
          }
        },
        {
          "output_type": "stream",
          "name": "stdout",
          "text": [
            "[92.640625 99.620361 78.730129]\n",
            "R^2: 0.9793488263328065\n",
            "MSE(mean): 1.3889359166666686\n",
            "MSE(std): 10.038103231308725\n",
            "CI (95%): 19.6746823333651\n",
            "MSE(mean (no outlier)): 0.31735235341365325\n",
            "MSE(std (no outlier)): 2.147696842061264\n",
            "CI (95%):  4.209485810440078\n"
          ]
        }
      ]
    },
    {
      "cell_type": "code",
      "metadata": {
        "id": "8jM-A4Z23P6Y",
        "colab": {
          "base_uri": "https://localhost:8080/"
        },
        "outputId": "5ea600fe-f311-4d79-e3ef-4f2f5359a1b1"
      },
      "source": [
        "from sklearn.ensemble import AdaBoostRegressor\n",
        "ada = AdaBoostRegressor()\n",
        "params = {\n",
        "    'n_estimators':[10, 25, 50, 100, 200],\n",
        "    'learning_rate': [0.25, 0.5, 1, 2]\n",
        "}\n",
        "search = GridSearchCV(cv=20, param_grid=params, estimator=ada)\n",
        "search.fit(X, y)"
      ],
      "execution_count": 30,
      "outputs": [
        {
          "output_type": "execute_result",
          "data": {
            "text/plain": [
              "GridSearchCV(cv=20, estimator=AdaBoostRegressor(),\n",
              "             param_grid={'learning_rate': [0.25, 0.5, 1, 2],\n",
              "                         'n_estimators': [10, 25, 50, 100, 200]})"
            ]
          },
          "metadata": {},
          "execution_count": 30
        }
      ]
    },
    {
      "cell_type": "code",
      "metadata": {
        "id": "ddQK8Uqi3-oH",
        "colab": {
          "base_uri": "https://localhost:8080/"
        },
        "outputId": "d485bc10-57ed-4cf4-e728-9be34851d264"
      },
      "source": [
        "search.best_params_"
      ],
      "execution_count": 31,
      "outputs": [
        {
          "output_type": "execute_result",
          "data": {
            "text/plain": [
              "{'learning_rate': 0.25, 'n_estimators': 25}"
            ]
          },
          "metadata": {},
          "execution_count": 31
        }
      ]
    },
    {
      "cell_type": "code",
      "metadata": {
        "id": "lA01nu9M4AnE",
        "colab": {
          "base_uri": "https://localhost:8080/"
        },
        "outputId": "32e714d2-5ccc-4e50-98d0-3ff30c494746"
      },
      "source": [
        "scores = cross_val_score(search.best_estimator_, X, y, cv=20)\n",
        "print(scores)\n",
        "print(f\"Mean Accuracy: {np.mean(scores)}\")\n",
        "print(f\"Std: {np.std(scores)}\")"
      ],
      "execution_count": 32,
      "outputs": [
        {
          "output_type": "stream",
          "name": "stdout",
          "text": [
            "[0.93506671 0.94295427 0.97500724 0.93539699 0.99069568 0.85010897\n",
            " 0.97548564 0.54735607 0.96044969 0.97821622 0.955864   0.97920805\n",
            " 0.98178972 0.95132347 0.94722344 0.98113675 0.92650811 0.97965498\n",
            " 0.98978433 0.98715067]\n",
            "Mean Accuracy: 0.93851905057689\n",
            "Std: 0.09514663985160693\n"
          ]
        }
      ]
    },
    {
      "cell_type": "code",
      "metadata": {
        "id": "o69t-Tcj5YBt",
        "colab": {
          "base_uri": "https://localhost:8080/",
          "height": 412
        },
        "outputId": "6918218b-80e5-4390-b39e-dc5329dbef93"
      },
      "source": [
        "loocv(X, y, search.best_estimator_)"
      ],
      "execution_count": 33,
      "outputs": [
        {
          "output_type": "display_data",
          "data": {
            "image/png": "[encoded data removed]",
            "text/plain": [
              "<Figure size 432x288 with 1 Axes>"
            ]
          },
          "metadata": {
            "needs_background": "light"
          }
        },
        {
          "output_type": "stream",
          "name": "stdout",
          "text": [
            "[100.6009      50.00510204 175.84654337 133.50752066]\n",
            "R^2: 0.9448146714324029\n",
            "MSE(mean): 3.5680439350433857\n",
            "MSE(std): 16.005691209669706\n",
            "CI (95%): 31.371154770952625\n",
            "MSE(mean (no outlier)): 1.7709153450065034\n",
            "MSE(std (no outlier)): 4.760819226287093\n",
            "CI (95%):  9.331205683522702\n"
          ]
        }
      ]
    },
    {
      "cell_type": "code",
      "metadata": {
        "colab": {
          "base_uri": "https://localhost:8080/"
        },
        "id": "qbNy4XU7Yj9N",
        "outputId": "727d6c09-f5fa-4141-cea8-30749451180f"
      },
      "source": [
        "from sklearn.tree import DecisionTreeRegressor\n",
        "dt = DecisionTreeRegressor()\n",
        "params = {\n",
        "    'max_depth': [1, 2, 3, 5, 8, None]\n",
        "}\n",
        "search = GridSearchCV(cv=20, param_grid=params, estimator=dt)\n",
        "search.fit(X, y)"
      ],
      "execution_count": 34,
      "outputs": [
        {
          "output_type": "execute_result",
          "data": {
            "text/plain": [
              "GridSearchCV(cv=20, estimator=DecisionTreeRegressor(),\n",
              "             param_grid={'max_depth': [1, 2, 3, 5, 8, None]})"
            ]
          },
          "metadata": {},
          "execution_count": 34
        }
      ]
    },
    {
      "cell_type": "code",
      "metadata": {
        "colab": {
          "base_uri": "https://localhost:8080/"
        },
        "id": "kEc5yrJTZWjU",
        "outputId": "1e22eeb1-c449-4155-e74e-5aea1deca315"
      },
      "source": [
        "search.best_params_"
      ],
      "execution_count": 35,
      "outputs": [
        {
          "output_type": "execute_result",
          "data": {
            "text/plain": [
              "{'max_depth': 8}"
            ]
          },
          "metadata": {},
          "execution_count": 35
        }
      ]
    },
    {
      "cell_type": "code",
      "metadata": {
        "colab": {
          "base_uri": "https://localhost:8080/",
          "height": 413
        },
        "id": "veO293LdZXvU",
        "outputId": "3d766c7d-4ff2-4aec-edeb-02f0c90ffae9"
      },
      "source": [
        "loocv(X, y, search.best_estimator_)"
      ],
      "execution_count": 36,
      "outputs": [
        {
          "output_type": "display_data",
          "data": {
            "image/png": "[encoded data removed]",
            "text/plain": [
              "<Figure size 432x288 with 1 Axes>"
            ]
          },
          "metadata": {
            "needs_background": "light"
          }
        },
        {
          "output_type": "stream",
          "name": "stdout",
          "text": [
            "[ 54.76 100.   207.36  73.96  88.36  88.36]\n",
            "R^2: 0.9605747911496267\n",
            "MSE(mean): 2.8508374142911133\n",
            "MSE(std): 17.429833337659552\n",
            "CI (95%): 34.16247334181272\n",
            "MSE(mean (no outlier)): 0.42931312358276646\n",
            "MSE(std (no outlier)): 2.4513274677521846\n",
            "CI (95%):  4.804601836794282\n"
          ]
        }
      ]
    },
    {
      "cell_type": "code",
      "metadata": {
        "colab": {
          "base_uri": "https://localhost:8080/"
        },
        "id": "LCF-JLFuZt4n",
        "outputId": "a2ccd447-9e14-41fa-e3f0-af9d6dc09264"
      },
      "source": [
        "scores = cross_val_score(search.best_estimator_, X, y, cv=20)\n",
        "print(scores)\n",
        "print(f\"Mean Accuracy: {np.mean(scores)}\")\n",
        "print(f\"Std: {np.std(scores)}\")"
      ],
      "execution_count": 37,
      "outputs": [
        {
          "output_type": "stream",
          "name": "stdout",
          "text": [
            "[0.75747806 0.95017285 0.96772606 0.94389878 0.99871813 0.96112168\n",
            " 0.96116945 0.26743056 0.99318152 0.99777471 0.9933131  0.9989524\n",
            " 0.99758645 0.9905707  0.98739603 0.99727027 0.94487726 0.99962263\n",
            " 0.99823738 0.99724642]\n",
            "Mean Accuracy: 0.9351872222668283\n",
            "Std: 0.16195080736424275\n"
          ]
        }
      ]
    }
  ]
}